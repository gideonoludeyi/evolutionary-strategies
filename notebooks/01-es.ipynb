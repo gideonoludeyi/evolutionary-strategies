{
 "cells": [
  {
   "cell_type": "code",
   "execution_count": 42,
   "id": "5bc004fe",
   "metadata": {},
   "outputs": [],
   "source": [
    "import numpy as np\n",
    "import pandas as pd\n",
    "import matplotlib.pyplot as plt\n",
    "import seaborn as sns"
   ]
  },
  {
   "cell_type": "code",
   "execution_count": 43,
   "id": "798bbbe2",
   "metadata": {},
   "outputs": [],
   "source": [
    "goal = np.array([5, 2, 3])\n",
    "def fitness(sol):\n",
    "    return np.sum(np.square(goal - sol))"
   ]
  },
  {
   "cell_type": "code",
   "execution_count": 44,
   "id": "fbdc5ae9",
   "metadata": {},
   "outputs": [],
   "source": [
    "ngen = 10000\n",
    "popsize = 512"
   ]
  },
  {
   "cell_type": "code",
   "execution_count": 45,
   "id": "bca46fe6",
   "metadata": {},
   "outputs": [],
   "source": [
    "def run_es(ngen, popsize, learning_rate=0.01, noise_factor=0.1, bounds=(0, 1), random_state=None):\n",
    "    rng = np.random.default_rng(random_state)\n",
    "    guess = rng.integers(low=bounds[0], high=bounds[1], size=3)\n",
    "    guesses = [guess]\n",
    "    for i in range(ngen):\n",
    "        if i % (ngen // 10) == 0:\n",
    "            print(f\"gen:{i}, fitness:{fitness(guess):.3f}\")\n",
    "        N = rng.normal(size=(popsize, 3))  # sample from normal distribution\n",
    "        F = np.zeros(popsize)\n",
    "        for j in range(popsize):\n",
    "            w = guess + noise_factor * N[j]\n",
    "            F[j] = fitness(w)\n",
    "        # standardize fitnesses to have guassian (normal) distribution\n",
    "        A = (F - np.mean(F)) / np.std(F)\n",
    "        guess = guess - learning_rate / (popsize * noise_factor) * np.dot(np.transpose(N), A)\n",
    "        guesses.append(guess)\n",
    "    return np.array(guesses)"
   ]
  },
  {
   "cell_type": "code",
   "execution_count": null,
   "id": "76367bda",
   "metadata": {},
   "outputs": [
    {
     "name": "stdout",
     "output_type": "stream",
     "text": [
      "gen:0, fitness:558218.000\n",
      "gen:1000, fitness:419092.633\n",
      "gen:2000, fitness:299815.128\n",
      "gen:3000, fitness:200528.080\n",
      "gen:4000, fitness:121030.230\n",
      "gen:5000, fitness:61558.892\n",
      "gen:6000, fitness:22022.056\n",
      "gen:7000, fitness:2355.425\n",
      "gen:8000, fitness:0.000\n",
      "gen:9000, fitness:0.000\n",
      "gen:0, fitness:260971.000\n",
      "gen:1000, fitness:169023.217\n",
      "gen:2000, fitness:96873.243\n",
      "gen:3000, fitness:44584.008\n",
      "gen:4000, fitness:12363.754\n",
      "gen:5000, fitness:129.474\n",
      "gen:6000, fitness:0.000\n",
      "gen:7000, fitness:0.000\n",
      "gen:8000, fitness:0.000\n",
      "gen:9000, fitness:0.000\n",
      "gen:0, fitness:1294566.000\n",
      "gen:1000, fitness:1077164.322\n",
      "gen:2000, fitness:879988.040\n",
      "gen:3000, fitness:702528.660\n",
      "gen:4000, fitness:545166.466\n",
      "gen:5000, fitness:407785.077\n",
      "gen:6000, fitness:290219.100\n",
      "gen:7000, fitness:192663.515\n",
      "gen:8000, fitness:114890.427\n",
      "gen:9000, fitness:57178.941\n",
      "gen:0, fitness:1488510.000\n",
      "gen:1000, fitness:1254888.251\n",
      "gen:2000, fitness:1041119.624\n",
      "gen:3000, fitness:847499.474\n"
     ]
    }
   ],
   "source": [
    "runs = dict()\n",
    "for seed in range(30):\n",
    "    guesses = run_es(ngen=ngen, popsize=popsize, bounds=(-1000, 1000), random_state=seed)\n",
    "    runs[seed] = guesses"
   ]
  },
  {
   "cell_type": "code",
   "execution_count": null,
   "id": "c60420e9",
   "metadata": {},
   "outputs": [
    {
     "data": {
      "text/html": [
       "<div>\n",
       "<style scoped>\n",
       "    .dataframe tbody tr th:only-of-type {\n",
       "        vertical-align: middle;\n",
       "    }\n",
       "\n",
       "    .dataframe tbody tr th {\n",
       "        vertical-align: top;\n",
       "    }\n",
       "\n",
       "    .dataframe thead th {\n",
       "        text-align: right;\n",
       "    }\n",
       "</style>\n",
       "<table border=\"1\" class=\"dataframe\">\n",
       "  <thead>\n",
       "    <tr style=\"text-align: right;\">\n",
       "      <th></th>\n",
       "      <th>seed</th>\n",
       "      <th>gen</th>\n",
       "      <th>fitness</th>\n",
       "    </tr>\n",
       "  </thead>\n",
       "  <tbody>\n",
       "    <tr>\n",
       "      <th>0</th>\n",
       "      <td>0</td>\n",
       "      <td>0</td>\n",
       "      <td>558218.000000</td>\n",
       "    </tr>\n",
       "    <tr>\n",
       "      <th>1</th>\n",
       "      <td>0</td>\n",
       "      <td>1</td>\n",
       "      <td>558066.859806</td>\n",
       "    </tr>\n",
       "    <tr>\n",
       "      <th>2</th>\n",
       "      <td>0</td>\n",
       "      <td>2</td>\n",
       "      <td>557911.262815</td>\n",
       "    </tr>\n",
       "    <tr>\n",
       "      <th>3</th>\n",
       "      <td>0</td>\n",
       "      <td>3</td>\n",
       "      <td>557764.809414</td>\n",
       "    </tr>\n",
       "    <tr>\n",
       "      <th>4</th>\n",
       "      <td>0</td>\n",
       "      <td>4</td>\n",
       "      <td>557621.624238</td>\n",
       "    </tr>\n",
       "    <tr>\n",
       "      <th>...</th>\n",
       "      <td>...</td>\n",
       "      <td>...</td>\n",
       "      <td>...</td>\n",
       "    </tr>\n",
       "    <tr>\n",
       "      <th>300025</th>\n",
       "      <td>29</td>\n",
       "      <td>9996</td>\n",
       "      <td>71254.328544</td>\n",
       "    </tr>\n",
       "    <tr>\n",
       "      <th>300026</th>\n",
       "      <td>29</td>\n",
       "      <td>9997</td>\n",
       "      <td>71199.988293</td>\n",
       "    </tr>\n",
       "    <tr>\n",
       "      <th>300027</th>\n",
       "      <td>29</td>\n",
       "      <td>9998</td>\n",
       "      <td>71148.588712</td>\n",
       "    </tr>\n",
       "    <tr>\n",
       "      <th>300028</th>\n",
       "      <td>29</td>\n",
       "      <td>9999</td>\n",
       "      <td>71097.094426</td>\n",
       "    </tr>\n",
       "    <tr>\n",
       "      <th>300029</th>\n",
       "      <td>29</td>\n",
       "      <td>10000</td>\n",
       "      <td>71044.999062</td>\n",
       "    </tr>\n",
       "  </tbody>\n",
       "</table>\n",
       "<p>300030 rows × 3 columns</p>\n",
       "</div>"
      ],
      "text/plain": [
       "        seed    gen        fitness\n",
       "0          0      0  558218.000000\n",
       "1          0      1  558066.859806\n",
       "2          0      2  557911.262815\n",
       "3          0      3  557764.809414\n",
       "4          0      4  557621.624238\n",
       "...      ...    ...            ...\n",
       "300025    29   9996   71254.328544\n",
       "300026    29   9997   71199.988293\n",
       "300027    29   9998   71148.588712\n",
       "300028    29   9999   71097.094426\n",
       "300029    29  10000   71044.999062\n",
       "\n",
       "[300030 rows x 3 columns]"
      ]
     },
     "execution_count": 39,
     "metadata": {},
     "output_type": "execute_result"
    }
   ],
   "source": [
    "dfs = []\n",
    "for seed, guesses in runs.items():\n",
    "  df = pd.DataFrame([dict(seed=seed, gen=gen, fitness=fitness(guess)) for gen, guess in enumerate(guesses)])\n",
    "  dfs.append(df)\n",
    "df = pd.concat(dfs, ignore_index=True)\n",
    "df"
   ]
  },
  {
   "cell_type": "code",
   "execution_count": null,
   "id": "135ef173",
   "metadata": {},
   "outputs": [
    {
     "data": {
      "text/plain": [
       "count       30.000000\n",
       "mean     16160.946992\n",
       "std      23210.102739\n",
       "min          0.000008\n",
       "25%          0.000084\n",
       "50%        250.155597\n",
       "75%      32344.765031\n",
       "max      71044.999062\n",
       "Name: fitness, dtype: float64"
      ]
     },
     "execution_count": 40,
     "metadata": {},
     "output_type": "execute_result"
    }
   ],
   "source": [
    "df.loc[df['gen']==ngen, 'fitness'].describe()"
   ]
  },
  {
   "cell_type": "code",
   "execution_count": null,
   "id": "6cc831fc",
   "metadata": {},
   "outputs": [
    {
     "data": {
      "image/png": "[encoded data removed]",
      "text/plain": [
       "<Figure size 500x500 with 1 Axes>"
      ]
     },
     "metadata": {},
     "output_type": "display_data"
    }
   ],
   "source": [
    "g = sns.relplot(data=df, x='gen', y='fitness', kind='line', errorbar='sd', estimator='mean')\n",
    "# g.set(xscale='log')\n",
    "plt.title(\"Mean of Score Per Generation\")\n",
    "plt.xlabel(\"Generations\")\n",
    "plt.ylabel(\"Fitness (lower is better)\")\n",
    "plt.show()"
   ]
  }
 ],
 "metadata": {
  "kernelspec": {
   "display_name": ".venv",
   "language": "python",
   "name": "python3"
  },
  "language_info": {
   "codemirror_mode": {
    "name": "ipython",
    "version": 3
   },
   "file_extension": ".py",
   "mimetype": "text/x-python",
   "name": "python",
   "nbconvert_exporter": "python",
   "pygments_lexer": "ipython3",
   "version": "3.12.9"
  }
 },
 "nbformat": 4,
 "nbformat_minor": 5
}
